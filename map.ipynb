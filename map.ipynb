{
 "cells": [
  {
   "cell_type": "code",
   "execution_count": null,
   "metadata": {},
   "outputs": [],
   "source": [
    "import folium\n",
    "import pandas as pd\n",
    "import random"
   ]
  },
  {
   "cell_type": "code",
   "execution_count": null,
   "metadata": {},
   "outputs": [],
   "source": [
    "# Read the CSV file\n",
    "df = pd.read_csv('../Hackacity2024Data/treated.csv')\n",
    "\n",
    "# Convert latitude and longitude to numeric values\n",
    "df['latitude'] = pd.to_numeric(df['latitude'], errors='coerce')\n",
    "df['longitude'] = pd.to_numeric(df['longitude'], errors='coerce')\n",
    "df['quantity'] = pd.to_numeric(df['quantity'], errors='coerce')\n",
    "\n",
    "# Drop rows with missing latitude or longitude values\n",
    "df = df.dropna(subset=['latitude', 'longitude', 'quantity'])\n",
    "\n",
    "# Check if there are still rows in the DataFrame\n",
    "if not df.empty:\n",
    "    # Create a folium map centered at the mean of the coordinates\n",
    "    map_center = [df['latitude'].mean(), df['longitude'].mean()]\n",
    "    mymap = folium.Map(location=map_center, zoom_start=13.2)\n",
    "\n",
    "    # Add markers for each event in the DataFrame with random colors\n",
    "    for index, row in df.iterrows():\n",
    "        # Generate a random color (orange, green, or red)\n",
    "        if (row['quantity'] > 5):\n",
    "            color = 'red'\n",
    "        elif (row['quantity'] < 3)\n",
    "        \n",
    "        color = random.choice(['orange', 'green', 'red'])\n",
    "\n",
    "        # Create an Icon with the specified color\n",
    "        icon = folium.Icon(color=color)\n",
    "\n",
    "        # Add marker to the map using the Icon\n",
    "        folium.Marker(location=[row['latitude'], row['longitude']],\n",
    "                      popup=row['subCategory'], icon=icon).add_to(mymap)\n",
    "\n",
    "    # Save the map as an HTML file\n",
    "    mymap.save('map.html')\n",
    "    print(\"Map saved to map.html\")\n",
    "else:\n",
    "    print(\"No valid coordinates found in the CSV.\")"
   ]
  },
  {
   "cell_type": "code",
   "execution_count": null,
   "metadata": {},
   "outputs": [],
   "source": []
  }
 ],
 "metadata": {
  "kernelspec": {
   "display_name": "Python 3",
   "language": "python",
   "name": "python3"
  },
  "language_info": {
   "name": "python",
   "version": "3.10.12"
  }
 },
 "nbformat": 4,
 "nbformat_minor": 2
}
