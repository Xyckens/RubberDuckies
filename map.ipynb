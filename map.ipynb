{
 "cells": [
  {
   "cell_type": "code",
   "execution_count": 1,
   "metadata": {},
   "outputs": [
    {
     "ename": "ModuleNotFoundError",
     "evalue": "No module named 'folium'",
     "output_type": "error",
     "traceback": [
      "\u001b[0;31m---------------------------------------------------------------------------\u001b[0m",
      "\u001b[0;31mModuleNotFoundError\u001b[0m                       Traceback (most recent call last)",
      "Cell \u001b[0;32mIn[1], line 1\u001b[0m\n\u001b[0;32m----> 1\u001b[0m \u001b[38;5;28;01mimport\u001b[39;00m \u001b[38;5;21;01mfolium\u001b[39;00m\n\u001b[1;32m      2\u001b[0m \u001b[38;5;28;01mimport\u001b[39;00m \u001b[38;5;21;01mpandas\u001b[39;00m \u001b[38;5;28;01mas\u001b[39;00m \u001b[38;5;21;01mpd\u001b[39;00m\n",
      "\u001b[0;31mModuleNotFoundError\u001b[0m: No module named 'folium'"
     ]
    }
   ],
   "source": [
    "import folium\n",
    "import pandas as pd"
   ]
  },
  {
   "cell_type": "code",
   "execution_count": null,
   "metadata": {},
   "outputs": [],
   "source": [
    "df = pd.read_csv('../Hackacity2024Data/treated.csv')\n",
    "df['latitude'] = pd.to_numeric(df['latitude'], errors='coerce')\n",
    "df['longitude'] = pd.to_numeric(df['longitude'], errors='coerce')\n",
    "df['quantity'] = pd.to_numeric(df['quantity'], errors='coerce')\n",
    "df = df.dropna(subset=['latitude', 'longitude', 'quantity'])\n",
    "if not df.empty:\n",
    "    map_center = [df['latitude'].mean(), df['longitude'].mean()]\n",
    "    mymap = folium.Map(location=map_center, zoom_start=13.2)\n",
    "    for index, row in df.iterrows():\n",
    "        if (row['quantity'] > 5):\n",
    "            color = 'red'\n",
    "        elif (row['quantity'] < 3):\n",
    "            color = 'orange'\n",
    "        else:\n",
    "            color = 'green'\n",
    "        icon = folium.Icon(color=color)\n",
    "        folium.Marker(location=[row['latitude'], row['longitude']],\n",
    "                      popup=row['subCategory'], icon=icon).add_to(mymap)\n",
    "    mymap.save('map.html')\n",
    "    print(\"Map saved to map.html\")\n",
    "else:\n",
    "    print(\"No valid coordinates found in the CSV.\")"
   ]
  },
  {
   "cell_type": "code",
   "execution_count": null,
   "metadata": {},
   "outputs": [],
   "source": []
  }
 ],
 "metadata": {
  "kernelspec": {
   "display_name": "Python 3",
   "language": "python",
   "name": "python3"
  },
  "language_info": {
   "codemirror_mode": {
    "name": "ipython",
    "version": 3
   },
   "file_extension": ".py",
   "mimetype": "text/x-python",
   "name": "python",
   "nbconvert_exporter": "python",
   "pygments_lexer": "ipython3",
   "version": "3.10.12"
  }
 },
 "nbformat": 4,
 "nbformat_minor": 2
}
