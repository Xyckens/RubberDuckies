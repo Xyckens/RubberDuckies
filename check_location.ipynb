{
 "cells": [
  {
   "cell_type": "code",
   "execution_count": 20,
   "metadata": {},
   "outputs": [],
   "source": [
    "import csv\n",
    "from collections import Counter"
   ]
  },
  {
   "cell_type": "code",
   "execution_count": null,
   "metadata": {},
   "outputs": [],
   "source": [
    "def process_data(file_path, output_file_path):\n",
    "\t\n",
    "\t\"\"\"\n",
    "\tProcesses the CSV file and counts the frequency of each 'calledstationid'.\n",
    "\n",
    "\t:param file_path: Path to the Excel file.\n",
    "\t:param output_file_path: Path to the output CSV file where results will be saved.\n",
    "\t:param location_counter: Counter object that tracks the frequency of each 'calledstationid'.\n",
    "\t:param csv_writer: CSV writer object used to write data to the output file.\n",
    "\t\"\"\"\n",
    "\tlocation_counter = Counter()\n",
    "\n",
    "\ttry:\n",
    "\t\t# Reading the input file\n",
    "\t\twith open(file_path, 'r') as file:\n",
    "\t\t\tcsv_reader = csv.DictReader(file)\n",
    "\n",
    "\t\t\t# Counting the frequency\n",
    "\t\t\tfor row in csv_reader:\n",
    "\t\t\t\tlocation = row.get('calledstationid')\n",
    "\t\t\t\tif location:\n",
    "\t\t\t\t\tlocation_counter[location] += 1\n",
    "\n",
    "\t\t# Writing the output file\n",
    "\t\twith open(output_file_path, 'w', newline='') as output_file:\n",
    "\t\t\tcsv_writer = csv.writer(output_file)\n",
    "\t\t\tcsv_writer.writerow(['calledstationid', 'frequency'])\n",
    "\n",
    "\t\t\tfor location, count in location_counter.items():\n",
    "\t\t\t\tif count > 1:\n",
    "\t\t\t\t\tcsv_writer.writerow([location, count])\n",
    "\n",
    "\texcept Exception as e:\n",
    "\t\tprint(f\"Error processing file: {e}\")\n"
   ]
  }
 ],
 "metadata": {
  "kernelspec": {
   "display_name": "Python 3",
   "language": "python",
   "name": "python3"
  },
  "language_info": {
   "codemirror_mode": {
    "name": "ipython",
    "version": 3
   },
   "file_extension": ".py",
   "mimetype": "text/x-python",
   "name": "python",
   "nbconvert_exporter": "python",
   "pygments_lexer": "ipython3",
   "version": "3.9.6"
  }
 },
 "nbformat": 4,
 "nbformat_minor": 2
}
