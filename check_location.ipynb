{
 "cells": [
  {
   "cell_type": "code",
   "execution_count": 20,
   "metadata": {},
   "outputs": [],
   "source": [
    "import csv\n",
    "from collections import Counter"
   ]
  },
  {
   "cell_type": "code",
   "execution_count": 28,
   "metadata": {},
   "outputs": [],
   "source": [
    "\"\"\"\n",
    "Processes the CSV file and counts the frequency of each 'calledstationid'.\n",
    "\n",
    ":param file_path: Path to the Excel file.\n",
    ":param output_file_path: Path to the output CSV file where results will be saved.\n",
    ":param location_counter: Counter object that tracks the frequency of each 'calledstationid'.\n",
    ":param csv_writer: CSV writer object used to write data to the output file.\n",
    "\"\"\"\n",
    "\n",
    "file_path = '200lines.csv'\n",
    "output_file_path = 'result.csv'\n",
    "location_counter = Counter()\n",
    "\n",
    "try:\n",
    "\t# Reading the input file\n",
    "\twith open(file_path, 'r') as file:\n",
    "\t\tcsv_reader = csv.DictReader(file)\n",
    "\n",
    "\t\t# Counting the frequency\n",
    "\t\tfor row in csv_reader:\n",
    "\t\t\tlocation = row.get('calledstationid')\n",
    "\t\t\tif location:\n",
    "\t\t\t\tlocation_counter[location] += 1\n",
    "\n",
    "\t# Writing the output file\n",
    "\twith open(output_file_path, 'w', newline='') as output_file:\n",
    "\t\tcsv_writer = csv.writer(output_file)\n",
    "\t\tcsv_writer.writerow(['calledstationid', 'frequency'])\n",
    "\n",
    "\t\tfor location, count in location_counter.items():\n",
    "\t\t\tif count > 1:\n",
    "\t\t\t\tcsv_writer.writerow([location, count])\n",
    "\n",
    "except Exception as e:\n",
    "\tprint(f\"Error processing file: {e}\")\n"
   ]
  }
 ],
 "metadata": {
  "kernelspec": {
   "display_name": "Python 3",
   "language": "python",
   "name": "python3"
  },
  "language_info": {
   "codemirror_mode": {
    "name": "ipython",
    "version": 3
   },
   "file_extension": ".py",
   "mimetype": "text/x-python",
   "name": "python",
   "nbconvert_exporter": "python",
   "pygments_lexer": "ipython3",
   "version": "3.9.6"
  }
 },
 "nbformat": 4,
 "nbformat_minor": 2
}
