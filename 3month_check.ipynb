{
 "cells": [
  {
   "cell_type": "code",
   "execution_count": 2,
   "metadata": {},
   "outputs": [],
   "source": [
    "import openpyxl\n",
    "import csv\n",
    "from datetime import datetime, timedelta"
   ]
  },
  {
   "cell_type": "code",
   "execution_count": null,
   "metadata": {},
   "outputs": [],
   "source": [
    "def delete_old_rows(file_path, sheet_name, date_column, header_row=1):\n",
    "    \"\"\"\n",
    "    Deletes rows where the date in the specified column is 3 months old or more.\n",
    "\n",
    "    :param file_path: Path to the Excel file.\n",
    "    :param sheet_name: Name of the sheet to process.\n",
    "    :param date_column: Column containing the date (e.g., 'A', 'B').\n",
    "    :param header_row: Row number of the header (default is 1).\n",
    "    \"\"\"\n",
    "    # Load the workbook and select the sheet\n",
    "    workbook = openpyxl.load_workbook(file_path)\n",
    "    sheet = workbook[sheet_name]\n",
    "\n",
    "    # Get today's date and calculate the cutoff date (3 months ago)\n",
    "    today = datetime.today()\n",
    "    cutoff_date = today - timedelta(days=90)\n",
    "\n",
    "    # Track rows to delete (start after the header row)\n",
    "    rows_to_delete = []\n",
    "    for row in sheet.iter_rows(min_row=header_row + 1, values_only=False):\n",
    "        cell = row[openpyxl.utils.column_index_from_string(date_column) - 1]\n",
    "        if cell.value and isinstance(cell.value, datetime):\n",
    "            # Check if the date is 3 months old or more\n",
    "            if cell.value <= cutoff_date:\n",
    "                rows_to_delete.append(cell.row)\n",
    "\n",
    "    # Delete rows in reverse order to avoid index shifting\n",
    "    for row_idx in sorted(rows_to_delete, reverse=True):\n",
    "        #sheet.delete_rows(row_idx)\n",
    "        print(row_idx)\n",
    "    # Save the updated workbook\n",
    "    workbook.save(file_path)"
   ]
  },
  {
   "cell_type": "code",
   "execution_count": null,
   "metadata": {},
   "outputs": [],
   "source": [
    "import openpyxl\n",
    "import csv\n",
    "from datetime import datetime, timedelta\n",
    "def delete_old_rows_csv(file_path, date_column):\n",
    "    \"\"\"\n",
    "    Deletes rows where the date in the specified column is 3 months old or more.\n",
    "\n",
    "    :param file_path: Path to the CSV file.\n",
    "    :param date_column: Column index containing the date (0-based index).\n",
    "    \"\"\"\n",
    "    today = datetime.today()\n",
    "    cutoff_date = today - timedelta(days=90)\n",
    "\n",
    "    with open(file_path, mode='r', newline='', encoding='utf-8') as file:\n",
    "        reader = csv.reader(file)\n",
    "        rows = [next(reader) for _ in range(200)]\n",
    "    data_rows = rows[1:]\n",
    "    filtered_rows = []\n",
    "    for row in data_rows:\n",
    "        try:\n",
    "            date_value = datetime.strptime(row[2], \"%Y-%m-%d %H:%M:%S\")\n",
    "            if date_value > cutoff_date:\n",
    "                filtered_rows.append(row)\n",
    "        except ValueError:\n",
    "    \n",
    "            filtered_rows.append(row)\n",
    "    with open(file_path, mode='w', newline='', encoding='utf-8') as file:\n",
    "        writer = csv.writer(file)\n",
    "        writer.writerow(rows[0])\n",
    "        writer.writerows(filtered_rows)\n",
    "file_path = \"/Hackacity2024Data.csv\"\n",
    "date_column = 2\n",
    "delete_old_rows_csv(file_path, date_column)"
   ]
  },
  {
   "cell_type": "code",
   "execution_count": 18,
   "metadata": {},
   "outputs": [
    {
     "name": "stdout",
     "output_type": "stream",
     "text": [
      "[['0', 'fbfe95a31b975faa4b79968f95d834f2204ff050c4cb174fc2222ce906378b2a', '2024-09-18 14:00:00', '0', '0', '0.0', '412a9bf588f4a609cd8e4c8fc8b69482d6f69079f274de5f467f83e95b181883', 'e0c8b4c72e48ff3726f36a987f29bab9b3d718646b3a6e7add248afb5fad4e67', 'eduroam'], ['1', '7330b1f18b414f72c4895700952fb9f2f5aa4cd3c15369f7b030466fa65d2354', '2024-09-18 13:00:00', '0', '0', '0.0', 'd5f9cf3d6db078eec48f1f235072ddcec82917cf70aca70543d1a6bff104db5f', '7b85b2daca64da5d39240d583c6097589a9a5dab4215b0d496e605425549b725', 'eduroam'], ['8', 'ce61d7deda01f237a051aa2dd47ad0f312eabbc88f6044fa2bfdd09051f4d67b', '2024-09-18 13:00:00', '1', '11', '13.0', 'df1edd77e7260f75aa089a163c65378aef54fd724f8a9899e381be29dc2b7801', '5af1d341577cfe5b6b1372e77a8671d38e705b215108ef02f974cfda95f6f6a8', 'eduroam'], ['10', 'd8eb2d1c308c670c9bbb3831bbb7f95d4d7cc72117a509ffe3706d682e00c106', '2024-09-18 13:00:00', '0', '0', '0.0', '721044da2499f5915c622045e9e32c9bc8dec18fd5f31cbb04bc6d280bbe46e7', 'b2db1483d4b964ef35025f023ec5c710ac90f593e025e8e980396531cf1f7fa0', 'eduroam'], ['12', '0e72705d3b4993fb8bdd773c7127c02e752662ff2b0311fa77017c41b64bf4f1', '2024-09-18 11:00:00', '0', '0', '0.0', '5d26f62b0e34769cbe5a892471409371d33b57a2bab433c012b2e3f7c37219de', '3708c679d35a55fb3ed4d50b080e06fd4ae8bcea9b873872d059a239a753d364', 'Porto. Free Wi-Fi'], ['14', 'e70c98ad46cd7819d96cad518b3ba96d286a7b62e2b427d93453a2045bf15bc7', '2024-09-18 11:00:00', '0', '0', '0.0', 'b07d8d0788187c1a1551b1c095435124ade3aae33e7497f5e054f27229aff039', 'f7e65d06ecc77fb0b1d76fdcc33f153f56f2d6a5c8f69953cbfa10cc3c911738', 'Porto. Free Wi-Fi'], ['16', 'bfee95d5fab78673bf4438cff8e0b4297da16286da369cd91a4ca582a77f0e71', '2024-09-18 10:00:00', '0', '0', '1.0', 'fbd7448297a3528b009e6f624b2c2db3549b93fe019d3258fa4695310504130e', '43f33e10bf0145209ef98de0636be3023fe3521e16ec64fd4ad09b7d8216b166', 'Porto. Free Wi-Fi'], ['17', '35b9e7e136b1781b662bd52dddfcf5cfbca34841e58c2b15d10ab20e2a76cdb3', '2024-09-18 10:00:00', '1', '4', '4.0', 'c8f36860d8f79e45a6263b1227b6c71ec1f52459fcdfd24fc5c7ed5466427c2e', '610f3720cc37d9195ab25e780f36690113624f19039fecbe5e5f802a353eb889', 'eduroam'], ['18', 'b920b9217ac6a87042e23053b86cbb224c087c0a81774f3cad3afd427b22b89b', '2024-09-18 12:00:00', '9', '114', '131874.0', '6da015927b86857b93a500e838b46fa83dce790a0fda45223b12a766fb3b1a2c', '80f53a17d387709e24f5c4419cd423056d46d6797d051b62933e6c39139ff810', 'Porto. Free Wi-Fi'], ['19', 'd5b5edf659b455da651816aaa404ba63124d7c63d9737c9a4226d45000e242cf', '2024-09-18 11:00:00', '1', '4', '15.0', '401fd7132169a1e0f562559ea13a9e06f4a1f358efcfb966621476614a0b5324', '17c434b0737e4cd9cee9589874cf7659c78b84861080bca2eac6b74f48180740', 'Porto. Free Wi-Fi'], ['24', '6614f914db697c312c717884ab12bc1897a195f04b286ae1c0b1da2038495864', '2024-09-12 11:00:00', '0', '0', '0.0', '4a14dfdea1914613d2709bdab544a87ee9b9d933adf7353d6a813ddd534442d9', '6f2ed2e71e167341cbbce4447d8a9065f8370294352f1847a9b777103516a02f', 'Porto. Free Wi-Fi'], ['41', 'cc294f1d1f00ab69309e16ada3a2e83b5f173dec0f5a5df23b8f350cf79ab4b9', '2024-09-18 13:00:00', '0', '1', '3.0', 'a527cd1a24c062334942edcb0be0685a50f056480c98d83495cb3ec1d08cfead', '87799b0b393c42088b6afbaf683cd455f1be1406a56b7043deb40b0cf2c63302', 'eduroam'], ['43', 'ff26fcfb90c389aeb4364277eb5ff22bcb97067694ec7705bb8f5e51d0ea0025', '2024-09-18 11:00:00', '0', '0', '0.0', '5732afe6a5ed1c2d160eb3064dfcbdccb042ea24be6e231c72e95e75a2c50432', 'c93e99cadba03fbe40913017b7b7e0485091728f5aa73b869eb08495ca7a4b05', 'Porto. Free Wi-Fi'], ['48', '2fd046b4443c5286517702ad7e4253e055b447dcb042ef88fef4fc2ebe58d340', '2024-09-18 11:00:00', '0', '1', '5.0', 'bbde47075eeb0e58cdc5770baf2822b8ac00d05a66c699ea5e140dd4263e0143', '6f2ed2e71e167341cbbce4447d8a9065f8370294352f1847a9b777103516a02f', 'eduroam'], ['49', 'eabee25e8fd826f7d1fea53071513f42c090867104affa2fa4c003464527fe79', '2024-09-18 13:00:00', '0', '1', '4.0', 'bcdc1d7e17dc97d58edd396a8227b4cc36bf16d1c3d1aeca6b5a95f2efc167ef', '3f96d689d9ff0c011de39cf41bddbdf8a3e11995926cdba23ca63120fe216653', 'Porto. Free Wi-Fi'], ['50', '37228828dceec13539c570245baec98d4ff418640d3cc5c6236393599633fda1', '2024-09-18 10:00:00', '0', '0', '0.0', '810c181c16f759594d8d601936118138cad743d69ff9fe8af86deb500171f843', '1ae875b94679f3bad8501c335fb784ba32bdb01e7640464fca31714c23007c69', 'Porto. Free Wi-Fi'], ['51', '833ff3de7303e416caf5e8d7891cdbfbfe34cb1d6c35f9745dc35c561282e352', '2024-09-18 15:00:00', '0', '0', '5.0', 'e2c3ba64ac0c55fbb8615b1c54a45cc28c4849b9150758b807aa97c6f4143040', '5f40b808ca6863f029891afc87551bc82cf8501d880568942130d5619830f613', 'eduroam'], ['55', '91ea517a42d3e3a0b6d40becd5dec5f25881025fc9dd8e986f33090b1ed32321', '2024-09-18 14:00:00', '0', '0', '0.0', '02ee8087e74a404edb9147a59c59139af6733c798ca7b0d36e26e4f0a963d243', '71356742cba9643b7ac2be2411b3bfe66f89ec664847a51bdbacf31fd03962f8', 'Porto. Free Wi-Fi'], ['56', '6ba34740a11ea102fcbc35dad37e626ed8dad378dd9b30ab1d8af3d4fdc907ab', '2024-09-18 13:00:00', '0', '0', '131853.0', '4a1387e9cea907846e057df19fb904eac30e196bcb053a9e8fc622c13a633a3a', '1786a505efa9f825a5a3cdb6916a2c619ee90342d0c708cbaf9afc57c8747f6f', 'eduroam'], ['57', 'a070b9aee0ff7b4c3522311acbaae40fa02bb51d379144a8bd194a59c8a1cf01', '2024-09-18 16:00:00', '812', '38', '36.0', '3b8d9d659d71efe03ca88a893ff317d97bae4c8b6857b522df8df2b534a99dd9', '6f2ed2e71e167341cbbce4447d8a9065f8370294352f1847a9b777103516a02f', 'Porto. Free Wi-Fi'], ['58', 'a9303840e9201fad14397c691797e66928e63d127cf3e42b2ea6b84e5d11a8e5', '2024-09-18 10:00:00', '1', '4', '3.0', '5a04c69dfb879f894fb14db3803535d1d57eec5d5cf23da46459788556b60dec', '000a9b5f3e9924b838334ddc856fb44e865abff86f6ef27d4297d10436481d33', 'eduroam'], ['59', '0242b7c85f1f082a1b8e4842503dea5d76f98c72af46e400e92904409cfee587', '2024-09-18 13:00:00', '0', '0', '', '0c39dcd22d4d3a6f375561048008b81487d59a3a5cd3226be6f01eb517da89d4', '363084153a810f329c1ae45f29fe4c8e27a782d0860cc69c23ee7248de994a74', 'Porto. Free Wi-Fi'], ['60', '27dc5a53144f96ebf0fab5e888d199543521ef522cc6e4f1e9f42247ef9e2f31', '2024-09-18 11:00:00', '5', '156', '131879.0', 'e9bf410cb9f159875ddaddd3f556dcdd869beccb258327d7b2fa3249f6b2ba89', '362c1f85d76f64d050485e5480e9519600bf637f20b8ec13faccbabc9860d39b', 'Porto. Free Wi-Fi'], ['82', 'e651d2094b7ae4933099667ea8c0434b01dd9586983ae4c340eb16b53e56e46a', '2024-09-18 16:00:00', '0', '0', '1.0', '7bb15233faec7e36abb5923fc8280e77d817363d0360b746154ec3c2afe6e775', 'b7484be9d82f15a9cf0cc967b21931a60afe085c467bcdb725c21d39878276fc', 'eduroam'], ['102', '858f7a111456cdf6a37cb52e0b0439e256694307c6a7b3c27abf7fe68fcdf4d1', '2024-09-18 16:00:00', '0', '0', '2.0', 'bab5fa18476a31f2cfa2fa6dfd4ac0fbc95515cefd1b3168eb055387dce739e3', 'b88058e804df91821218cfbafff1f73fb51a2df116dfe7a370501be83eac24ff', 'eduroam'], ['104', '1523b2bae74a026dd9df8166cc135653958fa9b3ddb2e6cc8f399066d0dc81f8', '2024-09-18 13:00:00', '0', '2', '6.0', '8ee06ac4132f9d00057fa9358a2bdea8044a5cb749ce49d7435789a8285c492b', '4117cecd54cd080ae324a47fecd0300ceb1d3a4affb9601b08d2a6a9bff0c87b', 'eduroam'], ['113', '20dad3b028d7dd76e23555eb4d1e034f5844c0ff6663a0a7bf5837800c54673d', '2024-09-18 12:00:00', '0', '0', '', '21cf15459cb44fffdf31c3f837d7e973fad8e6c41d1ec6a076f99075ed4abca6', '6e6acac95fc2fe18ee7ec004a3a6831b69d5adeee50921719f996529aa9910ec', 'Porto. Free Wi-Fi'], ['115', 'a796e3709e680574c60a10db31764c174b38595e161489aceacf2b641153f487', '2024-09-18 15:00:00', '0', '0', '7.0', '069a1d0dc6ad8f9b0bb4efb383ea5dab10cb138ca339091a48832e35dad4ecad', 'fb635831ddca59a6749331693fa8058d5eeddc26eff8af8741e1a08a1931f428', 'Porto. Free Wi-Fi'], ['118', '70a8cf3b6353632a712329fe8c2dc63f9f9037d1b5618e2a0ff254756a6834f4', '2024-09-18 10:00:00', '0', '0', '5.0', 'd52a015aadcfa2252d41733642e2f5f204d24585c329ba310061d936f52bb31f', '7098d542da8d31155917668e73784783715228171387e1fd33ca712016827663', 'Porto. Free Wi-Fi'], ['119', 'd8eb2d1c308c670c9bbb3831bbb7f95d4d7cc72117a509ffe3706d682e00c106', '2024-09-18 16:00:00', '0', '0', '0.0', '721044da2499f5915c622045e9e32c9bc8dec18fd5f31cbb04bc6d280bbe46e7', '306788eaabf0726c0d38072cff1bea67aa253e35cd63cf55de4ecea5787321b9', 'eduroam'], ['120', '7e8c21cd35da59e76aa96a4921f42c31f98de4e689b782f23f7e2506d78dd5ef', '2024-09-18 11:00:00', '0', '0', '5.0', 'b2e8a3f17343c5717a69dfcfa69790ab0b71c00828195a4e772210899cd5e0ee', '71356742cba9643b7ac2be2411b3bfe66f89ec664847a51bdbacf31fd03962f8', 'Porto. Free Wi-Fi'], ['121', 'f9b6c7eeea2045102035da1069bad130085dafadcd7ad17f1d4362324d44e7f7', '2024-09-18 16:00:00', '0', '0', '5.0', '61bc57e4f152399ec629d8c2236002fc41bbaf0cb756b45ccfdd53bbc35ed5f8', 'fb635831ddca59a6749331693fa8058d5eeddc26eff8af8741e1a08a1931f428', 'Porto. Free Wi-Fi'], ['122', '30b2703005b16c9107a9318196a265147ce0368927ed3967a6de4a3ab34f74ea', '2024-09-18 12:00:00', '33', '9', '40.0', '68067b45e15228f853b2325b6588b492d0d0c6b6d72c0b0fdcd042d641c07c70', 'b715b6d508f3617aeffc2c727c60e5e02c05a0540bb88a54b74d401c16708f63', 'Porto. Free Wi-Fi'], ['124', '2eac27f5f2c9cc44fb125f6ba60341ba1efce95954d912645cc07c409a6069f7', '2024-09-18 13:00:00', '0', '0', '0.0', '6210841c4741567b291d7bbecd049b92a0b449600c9b21fefd298fcf12f18028', '2d214649d2fc83929c5180eb473420d7b7a214e2e0be336c7d6be356c1f742b1', 'Porto. Free Wi-Fi'], ['125', '1353cc8c39915f36f5795e08a136d695ff7995b50e37c90e55d274ae3606c300', '2024-09-18 10:00:00', '1', '21', '', '9805372c66419a869c1b996787c0c9d8e02bc43de62aad7dfdff840ee64dddd7', '712ab2af64efb9bc13a82847623bfc86f0b70a625066b61cb160573eeb0da1db', 'eduroam'], ['128', '6c318cdf1a782fae87082a47cd7ed0a8b4aaa4319e54ae1fbfbd140ed69c00fc', '2024-09-18 10:00:00', '0', '0', '0.0', 'e5098e48e344010934f28c8569b107673acd1ba2eeb0b674cd7973730f6c4765', '87fd7b327e5afec3d8d878764e8ffc14fd2c09cfbeca4bfb9afbeb2570b6a82f', 'eduroam'], ['162', 'ee6b015dbe28a793cf5c408076a2f05f9d9d99ffe1613b9d47c18884145ae02a', '2024-09-18 15:00:00', '0', '3', '9.0', '7c8b5bafdec7ac1b5288036c006bcdb6aa8daa29df6ad3502ca9766c6908d859', 'b88058e804df91821218cfbafff1f73fb51a2df116dfe7a370501be83eac24ff', 'eduroam'], ['163', 'd2e8f9902708c79b41eada89fee657ed06a7f397b091ecdb58d45e3f3ca134a3', '2024-09-18 10:00:00', '1', '2', '8.0', '8834cb8106f31222aab60af9d24e59f8046dc60870e667ec7f6e15083e55bcef', '3f96d689d9ff0c011de39cf41bddbdf8a3e11995926cdba23ca63120fe216653', 'Porto. Free Wi-Fi'], ['169', '1c0c77e40d6d445f0ca34cbde8d74c97eaa21d5f13235c1dbb0dd9a283264dd6', '2024-09-18 13:00:00', '0', '0', '0.0', 'cc90ab968dbdefb3517c4545b8dd34e0ff996b4eabf7030c749a2d4edce4a60e', '04ca1153de9afc12ec035bf0a1652c0b4cadf9bb5b47d96cbd54327591087056', 'Porto. Free Wi-Fi'], ['170', '588e4ab203bd3fffb8dec39a295a22391d791d08306cc33db220c53c7f93f448', '2024-09-18 14:00:00', '0', '0', '6.0', 'a5b17a285578cf5029a44feb377c3e533fc144259718e6afc7a9fc6993d18559', 'a9623ebc2984a20de78d660be9953231f9a2357415fdaca372ac8480fd811ae5', 'Porto. Free Wi-Fi'], ['171', 'c320c04038c7113cbe3e1c5d7028834b06e72d91e819f0aea871cea835102250', '2024-09-18 11:00:00', '0', '0', '', '64b684e78d10d00be00a1c00a7a4dbd8d721acda212d412d56efc93f01d6f138', '4f6dc1d796ba1733b53641bcee957694bc26bf1426f03d0f8e2a2471c9e6c927', 'eduroam'], ['173', '395039edf94ebcb1fa9a5bd1b8c4b824c814bdd137a311add38df54ff2a6ca8b', '2024-09-18 11:00:00', '0', '1', '4.0', '7fa3e764296d8e0de4574709aba71301c37d86639a0d0d887f0619de5357e4f9', '3f96d689d9ff0c011de39cf41bddbdf8a3e11995926cdba23ca63120fe216653', 'Porto. Free Wi-Fi'], ['174', 'f9f07419835ab0efaefd7d0191f40ab155b6d89d729d81587593e52823276ef5', '2024-09-18 10:00:00', '0', '0', '4.0', '8fa63edbb23ced8e171b2aafe4f720bed884621ab5878caacc14226774220176', '43f33e10bf0145209ef98de0636be3023fe3521e16ec64fd4ad09b7d8216b166', 'Porto. Free Wi-Fi'], ['175', 'fbbd3e01f9b1f52d1e1bc8bda08575ab11da89f6500b41031dd3647a7a82f1f2', '2024-09-18 10:00:00', '1', '7', '7.0', 'c361f471002a7f51c4da595009a1998bd21d5edaba81fd49d5d20427fe87fdc1', '37959aa115d8e097cd01243fd28292c695e94fcacc69e3a0e817df6897b0cdaa', 'Porto. Free Wi-Fi'], ['183', '506822ccc84b905f7431ff1d09f9fc08d3f9f9b33cc77cbe45c2620810424d6e', '2024-09-18 12:00:00', '12', '450', '52.0', '6dfbaaa6bf9dfa18822dc8c3aba99a6aebb7503c32dbd3865942ed48ec114be0', '9c7c1cd6aa2ce7cacb6f8df8541d07b89298ee36b9f23a8032e70c020a066be6', 'Porto. Free Wi-Fi'], ['187', 'e68b959ea5f5fc75023860ddaf54dc361ed4d87e65374bd85160036de4b67ed5', '2024-09-18 13:00:00', '1', '11', '31.0', '1d473f3e99b9a27614f5223dd920d151b4b53cf892330336ff4187630ade6ed6', '4931b333e7712f1a0d370752c3d4299d897838d1d0b3f664eeeea8006b87e500', 'eduroam'], ['191', 'a55cc4c191967a1d2da5d52deb5dc9dc1d0ce8da687fb120d1b8c8df064d643d', '2024-09-18 16:00:00', '0', '0', '3.0', 'e15c59bdbcd95e79c4b6173b07fe3dd24e5ca9601f906be1a972f427af5a4fd8', '1ae875b94679f3bad8501c335fb784ba32bdb01e7640464fca31714c23007c69', 'eduroam'], ['193', '00b44c1eb9a0b432cda4c767f8fd364b90e32caf677ec474372217e60489e41f', '2024-09-18 12:00:00', '0', '0', '5.0', 'ce8a03163a72da395d1a816873f970412a9dc94c9fbad083a1c594cc6542093c', '4430c37124a740cbd88faa185d3213254c4d45282a21e2f529ad6db8892f58be', 'Porto. Free Wi-Fi']]\n"
     ]
    }
   ],
   "source": [
    "file_path = \"200lines.csv\"  # Replace with your Excel file path\n",
    "#sheet_name = \"hackacity_wifi_data\"      # Replace with your sheet name\n",
    "date_column = 2         # Replace with the column containing the dates\n",
    "delete_old_rows_csv(file_path, date_column)"
   ]
  },
  {
   "cell_type": "code",
   "execution_count": null,
   "metadata": {},
   "outputs": [],
   "source": []
  }
 ],
 "metadata": {
  "kernelspec": {
   "display_name": "Python 3",
   "language": "python",
   "name": "python3"
  },
  "language_info": {
   "codemirror_mode": {
    "name": "ipython",
    "version": 3
   },
   "file_extension": ".py",
   "mimetype": "text/x-python",
   "name": "python",
   "nbconvert_exporter": "python",
   "pygments_lexer": "ipython3",
   "version": "3.10.12"
  }
 },
 "nbformat": 4,
 "nbformat_minor": 2
}
