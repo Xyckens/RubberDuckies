{
 "cells": [
  {
   "cell_type": "markdown",
   "metadata": {},
   "source": [
    "# Search Duplicates in CSV \n",
    "This function identifies and returns the rows with duplicate values in a specified column from a pandas DataFrame. It marks all duplicates and shows the row indices where those duplicates occur, helping to pinpoint where the repeated values are found."
   ]
  },
  {
   "cell_type": "code",
   "execution_count": null,
   "metadata": {
    "vscode": {
     "languageId": "plaintext"
    }
   },
   "outputs": [],
   "source": [
    "import pandas as pd\n",
    "\n",
    "# Function to load the first X rows from the CSV file\n",
    "def load_csv_with_limit(file_path, num_rows):\n",
    "    print(\"Opening file...\")\n",
    "    return pd.read_csv(file_path, nrows=num_rows)  # Only load the first X rows\n",
    "\n",
    "def find_duplicates(column_name, data):\n",
    "    if column_name not in data.columns:\n",
    "        print(f\"Column '{column_name}' does not exist.\")\n",
    "        return\n",
    "\n",
    "    # Group rows by column values and find duplicates\n",
    "    duplicate_groups = data[data[column_name].duplicated(keep=False)].groupby(column_name).apply(lambda x: list(x.index))\n",
    "    \n",
    "    if duplicate_groups.empty:\n",
    "        print(f\"No duplicates found in column '{column_name}'.\")\n",
    "    else:\n",
    "        print(f\"Duplicates found in column '{column_name}':\")\n",
    "        for value, rows in duplicate_groups.items():\n",
    "            print(f\"Found duplicated value in rows: {rows}\")\n",
    "\n",
    "# Example usage\n",
    "file_path = 'hackacity_wifi_data.csv'  # Replace with your actual file path\n",
    "num_rows_to_check = 100  # Replace with the number of rows to load\n",
    "data = load_csv_with_limit(file_path, num_rows_to_check)\n",
    "\n",
    "column_to_check = 'callingstationid'  # Replace with the column you want to check\n",
    "find_duplicates(column_to_check, data)\n"
   ]
  },
  {
   "cell_type": "markdown",
   "metadata": {},
   "source": [
    "# Deductions:\n",
    "Analyzing the output of this function, we determined that users' MAC addresses share the same session ID.\n",
    "Additionally, the MAC addresses are only hashed without any added noise.\n",
    "A possible improvement would be to introduce noise (e.g., a salt) before or after the hashing process, creating truly unique IDs and enhancing security by preventing the use of rainbow tables or making the hashes predictable.\n"
   ]
  }
 ],
 "metadata": {
  "kernelspec": {
   "display_name": "Python 3 (ipykernel)",
   "language": "python",
   "name": "python3"
  },
  "language_info": {
   "codemirror_mode": {
    "name": "ipython",
    "version": 3
   },
   "file_extension": ".py",
   "mimetype": "text/x-python",
   "name": "python",
   "nbconvert_exporter": "python",
   "pygments_lexer": "ipython3",
   "version": "3.12.7"
  }
 },
 "nbformat": 4,
 "nbformat_minor": 4
}
